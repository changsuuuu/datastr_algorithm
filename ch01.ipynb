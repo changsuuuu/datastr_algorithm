{
 "cells": [
  {
   "cell_type": "code",
   "execution_count": 3,
   "metadata": {},
   "outputs": [
    {
     "name": "stdout",
     "output_type": "stream",
     "text": [
      "세 정수의 최대값을 구합니다\n",
      "최대값은 6입니다.\n"
     ]
    }
   ],
   "source": [
    "# 세 정수의 최대값 구하기\n",
    "\n",
    "print('세 정수의 최대값을 구합니다')\n",
    "\n",
    "a=int(input('a의 값을 입력'))\n",
    "b=int(input('b의 값을 입력'))\n",
    "c=int(input('c의 값을 입력'))\n",
    "\n",
    "maximum=1\n",
    "if b>maximum : maximum = b\n",
    "if c>maximum : maximum = c # 조건식으로 평가한 결과에 따라 프로그램의 실행 흐름이 변경되는 이러한 구조를 \n",
    "# '선택구조(select str)'\n",
    "# 이렇게 한 문장씩 순서대로 처리되는 구조를 '순차구조(sequential str)'\n",
    "\n",
    "print(f'최대값은 {maximum}입니다.') \n"
   ]
  },
  {
   "cell_type": "code",
   "execution_count": 4,
   "metadata": {},
   "outputs": [
    {
     "name": "stdout",
     "output_type": "stream",
     "text": [
      "hi 창수\n"
     ]
    }
   ],
   "source": [
    "# 문자열과 숫자 입력받기\n",
    "\n",
    "name=input('name:')\n",
    "print(f'hi {name}')"
   ]
  },
  {
   "cell_type": "code",
   "execution_count": 6,
   "metadata": {},
   "outputs": [
    {
     "data": {
      "text/plain": [
       "3.14"
      ]
     },
     "execution_count": 6,
     "metadata": {},
     "output_type": "execute_result"
    }
   ],
   "source": [
    "int('17') #10진수 문자열을 10진수 정수형으로 변환\n",
    "int('0b110',2) #2진수 문자열을 10진수 정수형으로\n",
    "int('0o75',8) #8진수 문자열을 10진수 정수형으로\n",
    "int('0x3F',16) #16진수 문자열을 10진수 정수형으로\n",
    "float('3.14') #문자열을 실수형으로\n"
   ]
  },
  {
   "cell_type": "code",
   "execution_count": 9,
   "metadata": {},
   "outputs": [
    {
     "name": "stdout",
     "output_type": "stream",
     "text": [
      "세 정수의 중앙값을 구합니다\n",
      "중앙값은 123\n"
     ]
    }
   ],
   "source": [
    "# 세 정수를 입력받아 중앙값 구하기\n",
    "\n",
    "def med3(a,b,c):\n",
    "    \"a,b,c 의 중앙값을 구하여 반환\"\n",
    "    if a>= b:\n",
    "        if b>=c:\n",
    "            return b\n",
    "        elif a<=c:\n",
    "            return a\n",
    "        else :\n",
    "            return c\n",
    "    \n",
    "    elif a>c :\n",
    "        return a\n",
    "    elif b>c :\n",
    "        return c\n",
    "    else :\n",
    "        return b\n",
    "\n",
    "print('세 정수의 중앙값을 구합니다')\n",
    "a=int(input('정수a값?'))\n",
    "b=int(input('정수a값?'))\n",
    "c=int(input('정수a값?'))\n",
    "\n",
    "print(f'중앙값은 {med3(a,b,c)}')\n",
    "\n",
    "\n",
    "\n",
    "\n"
   ]
  },
  {
   "cell_type": "code",
   "execution_count": 10,
   "metadata": {},
   "outputs": [
    {
     "name": "stdout",
     "output_type": "stream",
     "text": [
      "1부터 n까지 정수의 합\n",
      "55\n"
     ]
    }
   ],
   "source": [
    "#1부터 n까지 정수의 합 구하기\n",
    "\n",
    "from re import I\n",
    "\n",
    "\n",
    "print('1부터 n까지 정수의 합')\n",
    "n=int(input('숫자를 입력'))\n",
    "\n",
    "sum=0\n",
    "i=1\n",
    "\n",
    "while i<=n:\n",
    "    sum += i\n",
    "    i+=1\n",
    "\n",
    "print(sum)\n"
   ]
  },
  {
   "cell_type": "code",
   "execution_count": 12,
   "metadata": {},
   "outputs": [
    {
     "name": "stdout",
     "output_type": "stream",
     "text": [
      "1부터 n까지 정수의 합\n",
      "55\n"
     ]
    }
   ],
   "source": [
    "# 변수가 하나만 있을 때는 while 문보다 for 문을 사용하는 것이 좋다\n",
    "# 1부터 n까지 정수의 합 구하기\n",
    "\n",
    "print('1부터 n까지 정수의 합')\n",
    "n=int(input('n값'))\n",
    "\n",
    "sum=0\n",
    "\n",
    "for i in range (1,n+1):\n",
    "    sum += i\n",
    "\n",
    "print(sum)\n"
   ]
  },
  {
   "cell_type": "code",
   "execution_count": 13,
   "metadata": {},
   "outputs": [],
   "source": [
    "# range( ) 함수로 이터러블 객체 생성\n",
    "# 이터러블객체는 반복할 수 있는 객체를 말하며, for i in range(1, 5)와 같이 for ̃in 문에 사용할 수 있다.\n",
    "# 또한 파이썬에서 사용하는 대표적인 이터리블 자료형으로 list, str, tuple이 있다."
   ]
  },
  {
   "cell_type": "code",
   "execution_count": 15,
   "metadata": {},
   "outputs": [
    {
     "name": "stdout",
     "output_type": "stream",
     "text": [
      "정수의 합을 구하자\n",
      "68\n"
     ]
    }
   ],
   "source": [
    "# 연속하는 정수의 합을 구하기 위해 값 정렬하기\n",
    "# a부터 b까지 정수의 합 구하기\n",
    "\n",
    "print('정수의 합을 구하자')\n",
    "a=int(input('a?'))\n",
    "b=int(input('b?'))\n",
    "\n",
    "if a>b:\n",
    "    a,b=b,a\n",
    "\n",
    "sum=0\n",
    "for i in range(a,b+1):\n",
    "    sum+=i\n",
    "\n",
    "print(sum)"
   ]
  },
  {
   "cell_type": "code",
   "execution_count": 16,
   "metadata": {},
   "outputs": [
    {
     "name": "stdout",
     "output_type": "stream",
     "text": [
      "a부터 b까지 정수의 합을 구합니다\n",
      "5+6+7+8+9+10=45\n"
     ]
    }
   ],
   "source": [
    "# 반복 과정에서 조건 판단하기 1\n",
    "# a부터 b까지 정수의 합 구하기1\n",
    "\n",
    "print('a부터 b까지 정수의 합을 구합니다')\n",
    "a=int(input('정수a?'))\n",
    "b=int(input('정수b?'))\n",
    "\n",
    "if a>b:\n",
    "    a,b=b,a\n",
    "\n",
    "sum=0\n",
    "for i in range(a,b+1):\n",
    "    if i<b:\n",
    "        print(f'{i}+',end='')\n",
    "    else:\n",
    "        print(f'{i}=',end='')\n",
    "    sum +=i \n",
    "\n",
    "print(sum)\n"
   ]
  },
  {
   "cell_type": "code",
   "execution_count": 18,
   "metadata": {},
   "outputs": [
    {
     "name": "stdout",
     "output_type": "stream",
     "text": [
      "a부터 b까지 정수의 합을 구합니다\n",
      "4+5+6+7+8+9+10=49\n"
     ]
    }
   ],
   "source": [
    "# 근데 위에서 처럼 for문을 쓰는 것 보단 다음과 같이 하는게 효율적\n",
    "\n",
    "print('a부터 b까지 정수의 합을 구합니다')\n",
    "a=int(input('정수a?'))\n",
    "b=int(input('정수b?'))\n",
    "\n",
    "if a>b:\n",
    "    a,b=b,a\n",
    "\n",
    "sum=0\n",
    "for i in range(a,b):\n",
    "    print(f'{i}+',end='')\n",
    "    sum +=i \n",
    "\n",
    "print(f'{b}=',end='')\n",
    "sum += b\n",
    "\n",
    "print(sum)"
   ]
  },
  {
   "cell_type": "code",
   "execution_count": 19,
   "metadata": {},
   "outputs": [
    {
     "name": "stdout",
     "output_type": "stream",
     "text": [
      "+와 -를 번갈아 출력합니다.\n",
      "+-+-+\n"
     ]
    }
   ],
   "source": [
    "# 반복 과정에서 조건 판단하기 2\n",
    "# +와 -를 번갈아 출력하기 1\n",
    "# 얘는 2가지 문제점이 있음\n",
    "# 1. for 문을 반복할 때 마다 if 문을 수행한다는 것. 즉 n이 50000이라면 if 문도 50000번 수행\n",
    "# 2. 상황에 따라 유연하게 수정하기 어렵다\n",
    "print('+와 -를 번갈아 출력합니다.')\n",
    "\n",
    "n=int(input('몇개?'))\n",
    "\n",
    "for i in range(n):\n",
    "    if i%2 :\n",
    "        print('-',end='')\n",
    "    else:\n",
    "        print('+',end='')\n",
    "\n",
    "print()"
   ]
  },
  {
   "cell_type": "code",
   "execution_count": 21,
   "metadata": {},
   "outputs": [
    {
     "name": "stdout",
     "output_type": "stream",
     "text": [
      "+와 -를 번갈아 출력합니다.\n",
      "+-+-+-+-+"
     ]
    }
   ],
   "source": [
    "# 위를 수정한 코드\n",
    "\n",
    "print('+와 -를 번갈아 출력합니다.')\n",
    "\n",
    "n=int(input('몇개?'))\n",
    "\n",
    "for i in range(n//2):\n",
    "    print('+-',end='')\n",
    "\n",
    "if n%2 :\n",
    "    print('+',end='')"
   ]
  },
  {
   "cell_type": "code",
   "execution_count": 23,
   "metadata": {},
   "outputs": [
    {
     "name": "stdout",
     "output_type": "stream",
     "text": [
      "****\n",
      "****\n",
      "****\n",
      "**\n"
     ]
    }
   ],
   "source": [
    "# 반복과정에서 조건 판단하기\n",
    "# *를 n개 출력하되 w개마다 줄바꿈\n",
    "\n",
    "n=int(input('몇개?'))\n",
    "w=int(input('몇개마다?'))\n",
    "\n",
    "for i in range(n//w):\n",
    "    print('*' * w)\n",
    "\n",
    "rest=n%w\n",
    "if rest:\n",
    "    print('*'*rest)\n",
    "\n"
   ]
  },
  {
   "cell_type": "code",
   "execution_count": 25,
   "metadata": {},
   "outputs": [
    {
     "name": "stdout",
     "output_type": "stream",
     "text": [
      "10\n"
     ]
    }
   ],
   "source": [
    "# 양수만 입력받기\n",
    "\n",
    "while True :\n",
    "    n=int(input('n값'))\n",
    "    if n>0:\n",
    "        break\n",
    "\n",
    "sum=0\n",
    "i=1\n",
    "\n",
    "for i in range(1,n+1):\n",
    "    sum += i \n",
    "    i += 1\n",
    "\n",
    "print(sum)"
   ]
  },
  {
   "cell_type": "code",
   "execution_count": 28,
   "metadata": {},
   "outputs": [
    {
     "name": "stdout",
     "output_type": "stream",
     "text": [
      "1*42\n",
      "2*21\n",
      "3*14\n",
      "6*7\n"
     ]
    }
   ],
   "source": [
    "# 가로 세로 길이가 정수이고 넓이가 area인 직사각형에서 변의 길이 나열하기\n",
    "\n",
    "area = int(input('넓이?'))\n",
    "\n",
    "for i in range(1, area+1):\n",
    "    if i*i > area : break\n",
    "    if area % i : continue\n",
    "    print(f'{i}*{area//i}')"
   ]
  },
  {
   "cell_type": "code",
   "execution_count": 33,
   "metadata": {},
   "outputs": [
    {
     "name": "stdout",
     "output_type": "stream",
     "text": [
      "47 10 81 68 "
     ]
    }
   ],
   "source": [
    "# 10~99 사이의 난수 n개 생성하기(13나오면 중단)\n",
    "import random\n",
    "\n",
    "n=int(input('난수개수?'))\n",
    "\n",
    "for i in range(n):\n",
    "    r=random.randint(10,99)\n",
    "    print(r,end=' ')\n",
    "    if r==13:\n",
    "        print('\\중단')\n",
    "        break\n",
    "\n",
    "else :\n",
    "    print('\\n 난수생성종료')\n",
    "\n"
   ]
  },
  {
   "cell_type": "code",
   "execution_count": 35,
   "metadata": {},
   "outputs": [
    {
     "name": "stdout",
     "output_type": "stream",
     "text": [
      "1 2 3 4 5 6 7 9 10 11 12 "
     ]
    }
   ],
   "source": [
    "# 1~12까지 8을 건너뛰고 출력하기 1(비효율적)\n",
    "# 얘는 건너뛰는 판단을 하려면 비용이 많으들어서 비효율적\n",
    "# 예를들어슷자를 100,000 까지 출력해야 하는 경우 숫자를 딱 1개 만 건너뛰도록 if, continue 문을 사용한다면 판단을 10만 번함\n",
    "for i in range(1,13):\n",
    "    if i==8:\n",
    "        pass\n",
    "    else :\n",
    "        print(i,end=' ')\n",
    "\n"
   ]
  },
  {
   "cell_type": "code",
   "execution_count": 38,
   "metadata": {},
   "outputs": [
    {
     "name": "stdout",
     "output_type": "stream",
     "text": [
      "숫자는 45\n"
     ]
    }
   ],
   "source": [
    "# 2자리 양수(10-99)입력받기\n",
    "\n",
    "while True:\n",
    "    no=int(input('값?'))\n",
    "    if 10 <= no <=99: # 뿐만 아니라 not (no<10 or no>99)로도 표현가능\n",
    "        break\n",
    "\n",
    "print(f'숫자는 {no}')"
   ]
  },
  {
   "cell_type": "code",
   "execution_count": 40,
   "metadata": {},
   "outputs": [
    {
     "name": "stdout",
     "output_type": "stream",
     "text": [
      "  1   2   3   4   5   6   7   8   9 \n",
      "  2   4   6   8  10  12  14  16  18 \n",
      "  3   6   9  12  15  18  21  24  27 \n",
      "  4   8  12  16  20  24  28  32  36 \n",
      "  5  10  15  20  25  30  35  40  45 \n",
      "  6  12  18  24  30  36  42  48  54 \n",
      "  7  14  21  28  35  42  49  56  63 \n",
      "  8  16  24  32  40  48  56  64  72 \n",
      "  9  18  27  36  45  54  63  72  81 \n"
     ]
    }
   ],
   "source": [
    "# 다중루프\n",
    "# 곱셈표 출력\n",
    "for i in range(1,10):\n",
    "    for j in range(1,10):\n",
    "        print(f'{i*j :3}',end=\" \") # :3 이거는 3자리로 출력하는거\n",
    "    print()\n",
    "\n"
   ]
  },
  {
   "cell_type": "code",
   "execution_count": 41,
   "metadata": {},
   "outputs": [
    {
     "name": "stdout",
     "output_type": "stream",
     "text": [
      "*\n",
      "**\n",
      "***\n",
      "****\n",
      "*****\n"
     ]
    }
   ],
   "source": [
    "#왼쪽 아래가 직각인 이등변 삼각형 출력\n",
    "\n",
    "n=int(input('길이'))\n",
    "\n",
    "for i in range(n):\n",
    "    for j in range(i+1):\n",
    "        print('*',end='')\n",
    "    print()\n",
    "\n",
    "    "
   ]
  },
  {
   "cell_type": "code",
   "execution_count": 47,
   "metadata": {},
   "outputs": [
    {
     "name": "stdout",
     "output_type": "stream",
     "text": [
      "    *\n",
      "   **\n",
      "  ***\n",
      " ****\n",
      "*****\n"
     ]
    }
   ],
   "source": [
    "# 오른쪽 아래가 직각인 이등변 삼각형 * 출력\n",
    "n=int(input('길이?'))\n",
    "\n",
    "for i in range(n):\n",
    "    for _ in range(n-i-1):\n",
    "        print(' ',end='')\n",
    "    for _ in range(i+1):\n",
    "        print('*',end='')\n",
    "    print()"
   ]
  },
  {
   "cell_type": "markdown",
   "metadata": {},
   "source": [
    "- 파이썬의 변수 알아보기\n",
    "\n",
    "파이썬에서는 데이터, 함수, 클래스, 모듈, 패키지 등을 모두 객체(object)로 취급. 객체는 자료형을 가지며, 메모리(저장 공간)을 차지한다. 이러한 특징 때문에 파이썬의 변수는 값을 갖지 않는다는 특징이 있다.\n",
    "\n",
    "정수 리터럴 17의 식별 빈호와 n의 식별 번호가 같다"
   ]
  }
 ],
 "metadata": {
  "kernelspec": {
   "display_name": "Python 3.8.9 64-bit",
   "language": "python",
   "name": "python3"
  },
  "language_info": {
   "codemirror_mode": {
    "name": "ipython",
    "version": 3
   },
   "file_extension": ".py",
   "mimetype": "text/x-python",
   "name": "python",
   "nbconvert_exporter": "python",
   "pygments_lexer": "ipython3",
   "version": "3.8.9"
  },
  "orig_nbformat": 4,
  "vscode": {
   "interpreter": {
    "hash": "31f2aee4e71d21fbe5cf8b01ff0e069b9275f58929596ceb00d14d90e3e16cd6"
   }
  }
 },
 "nbformat": 4,
 "nbformat_minor": 2
}
